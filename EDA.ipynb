{
 "cells": [
  {
   "cell_type": "code",
   "execution_count": 1,
   "metadata": {},
   "outputs": [],
   "source": [
    "import json\n",
    "from datetime import datetime\n",
    "from dateutil import tz\n",
    "import numpy as np\n",
    "import matplotlib.pyplot as plt\n",
    "import seaborn as sns\n",
    "import pandas as pd"
   ]
  },
  {
   "cell_type": "code",
   "execution_count": 2,
   "metadata": {},
   "outputs": [],
   "source": [
    "from_zone = tz.tzutc()\n",
    "to_zone = tz.tzlocal()"
   ]
  },
  {
   "cell_type": "code",
   "execution_count": 3,
   "metadata": {},
   "outputs": [],
   "source": [
    "def getlocaltime(date_time_str):\n",
    "    try:\n",
    "        date_time_obj = datetime.strptime(date_time_str, '%Y-%m-%dT%H:%M:%S.%fZ')\n",
    "    except:\n",
    "        date_time_obj = datetime.strptime(date_time_str, '%Y-%m-%dT%H:%M:%SZ')\n",
    "    utc_time = date_time_obj.replace(tzinfo=from_zone)\n",
    "    local_time = utc_time.astimezone(to_zone)\n",
    "    return local_time"
   ]
  },
  {
   "cell_type": "code",
   "execution_count": 4,
   "metadata": {},
   "outputs": [],
   "source": [
    "def get_data_from_json(file_path):\n",
    "    df_total = pd.read_json(file_path)\n",
    "    df_total = df_total[df_total['titleUrl'].isna()!=True]\n",
    "    if 'description' in df_total.columns:\n",
    "        df_total.drop(columns=['description'],inplace=True)\n",
    "        df_total['time'] = df_total['time'].map(getlocaltime)\n",
    "    df_total = df_total.set_index(['time'])\n",
    "    df_total.index = pd.to_datetime(df_total.index, unit='s')\n",
    "    df_music = df_total[df_total['header']=='YouTube Music']\n",
    "    df_gaming = df_total[df_total['header']=='YouTube Gaming']\n",
    "    df_youtube = df_total[df_total['header']=='YouTube']\n",
    "    df_others = df_total[(df_total['header']!='YouTube') & (df_total['header']!='YouTube Music') & (df_total['header']!='YouTube Gaming')]\n",
    "    return df_youtube, df_gaming, df_music, df_others"
   ]
  },
  {
   "cell_type": "code",
   "execution_count": 5,
   "metadata": {},
   "outputs": [],
   "source": [
    "def get_top_k_videos(df,k=0):\n",
    "    video_id = {}\n",
    "    for index,row in df.iterrows():\n",
    "        v_id = row['title'][8:]\n",
    "        if v_id in video_id.keys():\n",
    "            video_id[v_id]+=1\n",
    "        else:\n",
    "            video_id[v_id] = 1\n",
    "    sorted_video_id = sorted(video_id.items(), key=lambda kv: kv[1], reverse=True)\n",
    "    if k!=0:\n",
    "        return sorted_video_id[:k]\n",
    "    else:\n",
    "        return sorted_video_id"
   ]
  },
  {
   "cell_type": "code",
   "execution_count": 6,
   "metadata": {},
   "outputs": [],
   "source": [
    "def get_monthly_video_count_plot(df):\n",
    "    ls = df['title'].resample('M').count()\n",
    "    ls = ls.to_dict()\n",
    "    \n",
    "    x_val = list(ls.keys())\n",
    "    x_val = [str(i.to_pydatetime().year)+'/'+str(i.to_pydatetime().month) for i in x_val]\n",
    "    y_val = list(ls.values())\n",
    "    \n",
    "    plt.figure(figsize=(40,14))\n",
    "    pal = sns.color_palette(\"Reds_d\", len(y_val))\n",
    "    y_val = np.array(y_val)\n",
    "    rank = y_val.argsort().argsort() \n",
    "    sns.barplot(x_val, y_val,palette=np.array(pal[::-1])[rank])"
   ]
  },
  {
   "cell_type": "code",
   "execution_count": 7,
   "metadata": {},
   "outputs": [],
   "source": [
    "def get_monthly_video_count_stat(df):\n",
    "    ls = df['title'].resample('M').count()\n",
    "    ls = ls.to_dict()\n",
    "    x_val = list(ls.keys())\n",
    "    x_val = [str(i.to_pydatetime().year)+'/'+str(i.to_pydatetime().month) for i in x_val]\n",
    "    y_val = list(ls.values())\n",
    "    stat_df = pd.DataFrame({'month':x_val,'count':y_val})\n",
    "    return stat_df"
   ]
  },
  {
   "cell_type": "code",
   "execution_count": 8,
   "metadata": {},
   "outputs": [],
   "source": [
    "file_path = 'watch-history.json'"
   ]
  },
  {
   "cell_type": "code",
   "execution_count": 9,
   "metadata": {},
   "outputs": [],
   "source": [
    "df,_,_,_=get_data_from_json(file_path)"
   ]
  },
  {
   "cell_type": "code",
   "execution_count": 10,
   "metadata": {},
   "outputs": [
    {
     "data": {
      "text/html": [
       "<div>\n",
       "<style scoped>\n",
       "    .dataframe tbody tr th:only-of-type {\n",
       "        vertical-align: middle;\n",
       "    }\n",
       "\n",
       "    .dataframe tbody tr th {\n",
       "        vertical-align: top;\n",
       "    }\n",
       "\n",
       "    .dataframe thead th {\n",
       "        text-align: right;\n",
       "    }\n",
       "</style>\n",
       "<table border=\"1\" class=\"dataframe\">\n",
       "  <thead>\n",
       "    <tr style=\"text-align: right;\">\n",
       "      <th></th>\n",
       "      <th>header</th>\n",
       "      <th>products</th>\n",
       "      <th>subtitles</th>\n",
       "      <th>title</th>\n",
       "      <th>titleUrl</th>\n",
       "    </tr>\n",
       "    <tr>\n",
       "      <th>time</th>\n",
       "      <th></th>\n",
       "      <th></th>\n",
       "      <th></th>\n",
       "      <th></th>\n",
       "      <th></th>\n",
       "    </tr>\n",
       "  </thead>\n",
       "  <tbody>\n",
       "    <tr>\n",
       "      <th>2019-12-18 09:18:06.034000+09:00</th>\n",
       "      <td>YouTube</td>\n",
       "      <td>[YouTube]</td>\n",
       "      <td>[{'name': 'Around The World 4K', 'url': 'https...</td>\n",
       "      <td>Watched London - Christmas Lights 8K</td>\n",
       "      <td>https://www.youtube.com/watch?v=E6HoiRHeGg4</td>\n",
       "    </tr>\n",
       "    <tr>\n",
       "      <th>2019-12-18 08:56:19.984000+09:00</th>\n",
       "      <td>YouTube</td>\n",
       "      <td>[YouTube]</td>\n",
       "      <td>[{'name': 'HBO', 'url': 'https://www.youtube.c...</td>\n",
       "      <td>Watched Silicon Valley: Bloopers Reel - Behind...</td>\n",
       "      <td>https://www.youtube.com/watch?v=sCJx0plgWfg</td>\n",
       "    </tr>\n",
       "    <tr>\n",
       "      <th>2019-12-18 07:03:35.542000+09:00</th>\n",
       "      <td>YouTube</td>\n",
       "      <td>[YouTube]</td>\n",
       "      <td>[{'name': 'Ashikaga Flower Park', 'url': 'http...</td>\n",
       "      <td>Watched 光の花の庭～Flower Fantasy 2019～</td>\n",
       "      <td>https://www.youtube.com/watch?v=vJBat_OCsGk</td>\n",
       "    </tr>\n",
       "    <tr>\n",
       "      <th>2019-12-18 06:43:03.795000+09:00</th>\n",
       "      <td>YouTube</td>\n",
       "      <td>[YouTube]</td>\n",
       "      <td>[{'name': 'tck2134', 'url': 'https://www.youtu...</td>\n",
       "      <td>Watched 310km/h Japan Shinkansen train passing...</td>\n",
       "      <td>https://www.youtube.com/watch?v=Cm6TLNitR0M</td>\n",
       "    </tr>\n",
       "    <tr>\n",
       "      <th>2019-12-18 06:31:24.946000+09:00</th>\n",
       "      <td>YouTube</td>\n",
       "      <td>[YouTube]</td>\n",
       "      <td>[{'name': 'The Verge', 'url': 'https://www.you...</td>\n",
       "      <td>Watched Google and YouTube moderators speak out</td>\n",
       "      <td>https://www.youtube.com/watch?v=OqP-gde4M-Q</td>\n",
       "    </tr>\n",
       "  </tbody>\n",
       "</table>\n",
       "</div>"
      ],
      "text/plain": [
       "                                   header   products  \\\n",
       "time                                                   \n",
       "2019-12-18 09:18:06.034000+09:00  YouTube  [YouTube]   \n",
       "2019-12-18 08:56:19.984000+09:00  YouTube  [YouTube]   \n",
       "2019-12-18 07:03:35.542000+09:00  YouTube  [YouTube]   \n",
       "2019-12-18 06:43:03.795000+09:00  YouTube  [YouTube]   \n",
       "2019-12-18 06:31:24.946000+09:00  YouTube  [YouTube]   \n",
       "\n",
       "                                                                          subtitles  \\\n",
       "time                                                                                  \n",
       "2019-12-18 09:18:06.034000+09:00  [{'name': 'Around The World 4K', 'url': 'https...   \n",
       "2019-12-18 08:56:19.984000+09:00  [{'name': 'HBO', 'url': 'https://www.youtube.c...   \n",
       "2019-12-18 07:03:35.542000+09:00  [{'name': 'Ashikaga Flower Park', 'url': 'http...   \n",
       "2019-12-18 06:43:03.795000+09:00  [{'name': 'tck2134', 'url': 'https://www.youtu...   \n",
       "2019-12-18 06:31:24.946000+09:00  [{'name': 'The Verge', 'url': 'https://www.you...   \n",
       "\n",
       "                                                                              title  \\\n",
       "time                                                                                  \n",
       "2019-12-18 09:18:06.034000+09:00               Watched London - Christmas Lights 8K   \n",
       "2019-12-18 08:56:19.984000+09:00  Watched Silicon Valley: Bloopers Reel - Behind...   \n",
       "2019-12-18 07:03:35.542000+09:00                 Watched 光の花の庭～Flower Fantasy 2019～   \n",
       "2019-12-18 06:43:03.795000+09:00  Watched 310km/h Japan Shinkansen train passing...   \n",
       "2019-12-18 06:31:24.946000+09:00    Watched Google and YouTube moderators speak out   \n",
       "\n",
       "                                                                     titleUrl  \n",
       "time                                                                           \n",
       "2019-12-18 09:18:06.034000+09:00  https://www.youtube.com/watch?v=E6HoiRHeGg4  \n",
       "2019-12-18 08:56:19.984000+09:00  https://www.youtube.com/watch?v=sCJx0plgWfg  \n",
       "2019-12-18 07:03:35.542000+09:00  https://www.youtube.com/watch?v=vJBat_OCsGk  \n",
       "2019-12-18 06:43:03.795000+09:00  https://www.youtube.com/watch?v=Cm6TLNitR0M  \n",
       "2019-12-18 06:31:24.946000+09:00  https://www.youtube.com/watch?v=OqP-gde4M-Q  "
      ]
     },
     "execution_count": 10,
     "metadata": {},
     "output_type": "execute_result"
    }
   ],
   "source": [
    "df.head()"
   ]
  },
  {
   "cell_type": "code",
   "execution_count": 11,
   "metadata": {},
   "outputs": [
    {
     "data": {
      "text/html": [
       "<div>\n",
       "<style scoped>\n",
       "    .dataframe tbody tr th:only-of-type {\n",
       "        vertical-align: middle;\n",
       "    }\n",
       "\n",
       "    .dataframe tbody tr th {\n",
       "        vertical-align: top;\n",
       "    }\n",
       "\n",
       "    .dataframe thead th {\n",
       "        text-align: right;\n",
       "    }\n",
       "</style>\n",
       "<table border=\"1\" class=\"dataframe\">\n",
       "  <thead>\n",
       "    <tr style=\"text-align: right;\">\n",
       "      <th></th>\n",
       "      <th>month</th>\n",
       "      <th>count</th>\n",
       "    </tr>\n",
       "  </thead>\n",
       "  <tbody>\n",
       "    <tr>\n",
       "      <th>37</th>\n",
       "      <td>2019/1</td>\n",
       "      <td>396</td>\n",
       "    </tr>\n",
       "    <tr>\n",
       "      <th>38</th>\n",
       "      <td>2019/2</td>\n",
       "      <td>258</td>\n",
       "    </tr>\n",
       "    <tr>\n",
       "      <th>39</th>\n",
       "      <td>2019/3</td>\n",
       "      <td>400</td>\n",
       "    </tr>\n",
       "    <tr>\n",
       "      <th>40</th>\n",
       "      <td>2019/4</td>\n",
       "      <td>468</td>\n",
       "    </tr>\n",
       "    <tr>\n",
       "      <th>41</th>\n",
       "      <td>2019/5</td>\n",
       "      <td>543</td>\n",
       "    </tr>\n",
       "    <tr>\n",
       "      <th>42</th>\n",
       "      <td>2019/6</td>\n",
       "      <td>467</td>\n",
       "    </tr>\n",
       "    <tr>\n",
       "      <th>43</th>\n",
       "      <td>2019/7</td>\n",
       "      <td>555</td>\n",
       "    </tr>\n",
       "    <tr>\n",
       "      <th>44</th>\n",
       "      <td>2019/8</td>\n",
       "      <td>456</td>\n",
       "    </tr>\n",
       "    <tr>\n",
       "      <th>45</th>\n",
       "      <td>2019/9</td>\n",
       "      <td>278</td>\n",
       "    </tr>\n",
       "    <tr>\n",
       "      <th>46</th>\n",
       "      <td>2019/10</td>\n",
       "      <td>294</td>\n",
       "    </tr>\n",
       "    <tr>\n",
       "      <th>47</th>\n",
       "      <td>2019/11</td>\n",
       "      <td>314</td>\n",
       "    </tr>\n",
       "    <tr>\n",
       "      <th>48</th>\n",
       "      <td>2019/12</td>\n",
       "      <td>264</td>\n",
       "    </tr>\n",
       "  </tbody>\n",
       "</table>\n",
       "</div>"
      ],
      "text/plain": [
       "      month  count\n",
       "37   2019/1    396\n",
       "38   2019/2    258\n",
       "39   2019/3    400\n",
       "40   2019/4    468\n",
       "41   2019/5    543\n",
       "42   2019/6    467\n",
       "43   2019/7    555\n",
       "44   2019/8    456\n",
       "45   2019/9    278\n",
       "46  2019/10    294\n",
       "47  2019/11    314\n",
       "48  2019/12    264"
      ]
     },
     "execution_count": 11,
     "metadata": {},
     "output_type": "execute_result"
    }
   ],
   "source": [
    "stat_df = get_monthly_video_count_stat(df)\n",
    "stat_df.tail(12)"
   ]
  },
  {
   "cell_type": "code",
   "execution_count": 12,
   "metadata": {},
   "outputs": [
    {
     "data": {
      "image/png": "[encoded data removed]",
      "text/plain": [
       "<Figure size 2880x1008 with 1 Axes>"
      ]
     },
     "metadata": {
      "needs_background": "light"
     },
     "output_type": "display_data"
    }
   ],
   "source": [
    "get_monthly_video_count_plot(df)"
   ]
  },
  {
   "cell_type": "code",
   "execution_count": 13,
   "metadata": {},
   "outputs": [
    {
     "data": {
      "text/plain": [
       "[('Alan Walker - Faded', 20),\n",
       " ('Tokyo Bon 東京盆踊り2020 (MakuDonarudo) Namewee 黃明志 ft.Cool Japan TV @亞洲通吃2018專輯 All Eat Asia',\n",
       "  17),\n",
       " ('The video introducing the facilities of Yokohama Hakkeijima Sea Paradise',\n",
       "  16),\n",
       " (\"4 Non Blondes - What's Up (Official Video)\", 16),\n",
       " ('American Authors - Best Day Of My Life (Official Video)', 15),\n",
       " ('THE WHITE BUFFALO - \"This Year\" (Official Audio)', 14),\n",
       " ('White Noise Frequency to Enhance Concentration (6 Hours)', 14),\n",
       " ('Stefan Otte: Deep Neural Networks with PyTorch | PyData Berlin 2018', 13),\n",
       " ('Coke Studio Season 9| Afreen Afreen| Rahat Fateh Ali Khan & Momina Mustehsan',\n",
       "  13),\n",
       " ('Anfield erupts! Amazing scenes as Liverpool reach the Champions League final with stunning comeback!',\n",
       "  12),\n",
       " ('Owl City - My Everything (Official Video)', 12),\n",
       " ('We Are Liverpool: This Means More', 12),\n",
       " ('Sean Rowe - \"To Leave Something Behind\"', 12),\n",
       " ('Matthew Perryman Jones - Land of the Living (As heard on Manchester By the Sea Movie Trailer)',\n",
       "  12),\n",
       " ('Sunflower - Post Malone, Swae Lee / Yoojung Lee Choreography', 11)]"
      ]
     },
     "execution_count": 13,
     "metadata": {},
     "output_type": "execute_result"
    }
   ],
   "source": [
    "get_top_k_videos(df,15)"
   ]
  },
  {
   "cell_type": "code",
   "execution_count": null,
   "metadata": {},
   "outputs": [],
   "source": []
  }
 ],
 "metadata": {
  "kernelspec": {
   "display_name": "Python 3",
   "language": "python",
   "name": "python3"
  },
  "language_info": {
   "codemirror_mode": {
    "name": "ipython",
    "version": 3
   },
   "file_extension": ".py",
   "mimetype": "text/x-python",
   "name": "python",
   "nbconvert_exporter": "python",
   "pygments_lexer": "ipython3",
   "version": "3.6.5"
  }
 },
 "nbformat": 4,
 "nbformat_minor": 4
}
